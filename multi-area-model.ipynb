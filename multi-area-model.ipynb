{
 "cells": [
  {
   "cell_type": "markdown",
   "id": "b1331599",
   "metadata": {
    "tags": []
   },
   "source": [
    "# Down-scaled multi-area model"
   ]
  },
  {
   "cell_type": "markdown",
   "id": "edec8345-aec1-419e-b9e3-7f612aff8262",
   "metadata": {},
   "source": [
    "<img src=\"model_construction.png\" alt=\"Model overview\" width=\"1000\"/>"
   ]
  },
  {
   "cell_type": "markdown",
   "id": "f4a649cc-3b68-49e4-b2b6-6f29f13a6d9c",
   "metadata": {},
   "source": [
    "The code in this notebook implements the down-scaled version of spiking network model of macaque visual cortex developed at the Institute of Neuroscience and Medicine (INM-6), Research Center Jülich. The full-scale model has been documented in the following publications:\n",
    "\n",
    "1. Schmidt M, Bakker R, Hilgetag CC, Diesmann M & van Albada SJ\n",
    "   Multi-scale account of the network structure of macaque visual cortex\n",
    "   Brain Structure and Function (2018), 223: 1409 [https://doi.org/10.1007/s00429-017-1554-4](https://doi.org/10.1007/s00429-017-1554-4)\n",
    "\n",
    "2. Schuecker J, Schmidt M, van Albada SJ, Diesmann M & Helias M (2017)\n",
    "   Fundamental Activity Constraints Lead to Specific Interpretations of the Connectome.\n",
    "   PLOS Computational Biology, 13(2): e1005179. [https://doi.org/10.1371/journal.pcbi.1005179](https://doi.org/10.1371/journal.pcbi.1005179)\n",
    "\n",
    "3. Schmidt M, Bakker R, Shen K, Bezgin B, Diesmann M & van Albada SJ (2018)\n",
    "   A multi-scale layer-resolved spiking network model of\n",
    "   resting-state dynamics in macaque cortex. PLOS Computational Biology, 14(9): e1006359. [https://doi.org/10.1371/journal.pcbi.1006359](https://doi.org/10.1371/journal.pcbi.1006359)"
   ]
  },
  {
   "cell_type": "markdown",
   "id": "b952d0ea",
   "metadata": {
    "tags": []
   },
   "source": [
    "## Notebook Outline <a class=\"anchor\" id=\"toc\"></a>\n",
    "* [S0. Configuration](#section_0)\n",
    "* [S1. Parameterization](#section_1)\n",
    "    * [1.1. Parameters to tune](#section_1_1)\n",
    "* [S2. Model Configuration, Instantiation and Simulation](#section_2)\n",
    "    * [2.1. Configuring model parameters](#section_2_1)\n",
    "    * [2.2. Instantiate a multi-area model](#section_2_2)\n",
    "    * [2.3. Predict firing rates from theory](#section_2_3)\n",
    "    * [2.4. Extract and visualize inter-areal connectivity](#section_2_3)\n",
    "    * [2.5. Run a simulation](#section_2_5)\n",
    "* [S3. Visualization of Network Dynamics](#section_3) \n",
    "    * [3.1. Mean firing rate over simulated populations](#section_3_1)\n",
    "    * [3.2. Instantaneous firing rate over simulated areas](#section_3_2)\n",
    "    * [3.3. Time-averaged firing rate over all populations](#section_3_3)\n",
    "    * [3.4. Network dynamics](#section_3_4)\n",
    "    * [3.5. Functional connectivity](#section_3_5)\n",
    "* [Additional Notes](#section_4)"
   ]
  },
  {
   "cell_type": "markdown",
   "id": "d782e527",
   "metadata": {
    "tags": []
   },
   "source": [
    "## S0. Configuration <a class=\"anchor\" id=\"section_0\"></a>"
   ]
  },
  {
   "cell_type": "code",
   "execution_count": null,
   "id": "9d6cc7d9-3110-4d96-9f9a-9ec7dee6d145",
   "metadata": {},
   "outputs": [],
   "source": [
    "# Create config file\n",
    "with open('config.py', 'w') as fp:\n",
    "    fp.write(\n",
    "'''import os\n",
    "base_path = os.path.abspath(\".\")\n",
    "data_path = os.path.abspath(\"simulations\")\n",
    "jobscript_template = \"python {base_path}/run_simulation.py {label}\"\n",
    "submit_cmd = \"bash -c\"\n",
    "''')"
   ]
  },
  {
   "cell_type": "code",
   "execution_count": null,
   "id": "96517739",
   "metadata": {
    "tags": []
   },
   "outputs": [],
   "source": [
    "%matplotlib inline\n",
    "!pip install python-louvain\n",
    "!pip install community\n",
    "import numpy as np\n",
    "import sys\n",
    "import os\n",
    "from IPython.display import display, HTML\n",
    "import warnings\n",
    "\n",
    "from multiarea_model import MultiAreaModel\n",
    "from multiarea_model import Analysis\n",
    "from config import base_path, data_path\n",
    "\n",
    "sys.path.append('./figures/MAM2EBRAINS')"
   ]
  },
  {
   "cell_type": "code",
   "execution_count": null,
   "id": "06764b48-a3b0-4518-ba92-816398bb72b0",
   "metadata": {},
   "outputs": [],
   "source": [
    "# Jupyter notebook display format setting\n",
    "style = \"\"\"\n",
    "<style>\n",
    "table {float:left}\n",
    "</style>\n",
    "\"\"\"\n",
    "display(HTML(style))\n",
    "\n",
    "warnings.filterwarnings('ignore')"
   ]
  },
  {
   "cell_type": "markdown",
   "id": "27160ba8",
   "metadata": {},
   "source": [
    "Go back to [Notebook Outline](#toc)"
   ]
  },
  {
   "cell_type": "markdown",
   "id": "df83f5ea-1c4b-44d3-9926-01786aa46e14",
   "metadata": {
    "tags": []
   },
   "source": [
    "## S1. Parameterization <a class=\"anchor\" id=\"section_1\"></a>"
   ]
  },
  {
   "cell_type": "markdown",
   "id": "30655817",
   "metadata": {},
   "source": [
    "### 1.1. Parameters to tune <a class=\"anchor\" id=\"section_1_1\"></a>"
   ]
  },
  {
   "cell_type": "markdown",
   "id": "9daf88e5-0d45-4529-a228-70c33900b05e",
   "metadata": {},
   "source": [
    "The values assigned for the following parameters are the same as in the paper except for the `scale_down_to` which is set as 0.006 enabling to simulate a down-scaled multi-area model with 2GB RAM. By default, it's set as 1.0 for simulating the full-scame model."
   ]
  },
  {
   "cell_type": "markdown",
   "id": "4f67c1ba",
   "metadata": {},
   "source": [
    "|Parameter        |Default value|Value range/options|Value assigned|Description|\n",
    "|:---------------:|:-----------:|:-----------------:|:------------:|:---------:|\n",
    "|scale_down_to    |$1.0$        |$(0, 1.0]$         |$0.006$       |$^1$       |\n",
    "|cc_weights_factor|$1.9$        |$[1.0, 2.5]$       |$1.9$         |$^2$       |\n",
    "|areas_simulated  |complete_area_list|Sublists of complete_area_list|complete_area_list|$^3$|\n",
    "|replace_non_simulated_areas|None|None, 'hom_poisson_stat', 'het_poisson_stat', 'het_current_nonstat'|'het_poisson_stat'|$^4$ |\n",
    "|g        |$-11.0$|$\\leq -1.0$ |$-11.0$ |$^5$ |\n",
    "|rate_ext |$10.0$ |$\\geq 0.0$  |$10.0$  |$^6$ |\n"
   ]
  },
  {
   "cell_type": "markdown",
   "id": "a2161477",
   "metadata": {},
   "source": [
    "1. `scale_down_to` is the down-scaling factor that defines the ratio by which the full-scale multi-area model is reduced to a model with fewer neurons and indegrees. This reduction is essential to enable simulation on machines with limited computational power, ensuring that simulation results can be obtained in a relatively shorter timeframe. <br> If the value is `scale_down_to = 1.`, the full-scale network will be simulated. <br> In the pre-set down-scaled version, `scale_down_to = 0.006`. This setting reduces the number of neurons and indegrees to 0.6 % of their full-scale counterparts, facilitating simulation on a typical local machine. <br> **Warning**: This may not yield reasonable results from the network dynamics and is only meant to demonstrate the simulation workflow! <br> \n",
    "\n",
    "2. `cc_weights_factor` is the scaling factor that controls the cortico-cortical synaptic strength. <br> By default it is set to `1.9`, for producing the state with the parameter for metastable state in the original paper. <br> **Important**: This factor plays a crucial role in transitioning the network activity from the ground to the metastable state.  In the full-scale network, the ground state and metastable state activities are achieved when this parameter is set to `1.0` and `1.9`, respectively.<br>\n",
    "\n",
    "3. `areas_simulated` specifies the cortical areas to be included in the simulation process. Its default value is `complete_area_list` meaning all the areas in the complete_area_list will be simulated.\n",
    "```python\n",
    "complete_area_list = ['V1', 'V2', 'VP', 'V3', 'V3A', 'MT', 'V4t', 'V4', 'VOT', 'MSTd', 'PIP', 'PO', 'DP', 'MIP', 'MDP', 'VIP', 'LIP', 'PITv', 'PITd', 'MSTl', 'CITv', 'CITd', 'FEF', 'TF', 'AITv', 'FST', '7a', 'STPp', 'STPa', '46', 'AITd', 'TH']\n",
    "```\n",
    "The value assigned to `areas_simulated` can be any sublist of complete_area_list.\n",
    "\n",
    "4. `replace_non_simulated_areas` defines how non-simulated areas will be replaced. <br> When all areas are included, it is set as `None` by default. <br> Other options are: `'hom_poisson_stat'`, `'het_poisson_stat'`, and `'het_current_nonstat'`.<br> `'hom_poisson_stat'` replaces the non-simulated areas by Poisson sources with the same global rate `rate_ext`. The `'het_poisson_stat'` and `'het_current_nonstat'` options use the loaded specific rates from `'replace_cc_input_source'`, which contains the area-specific firing rates of our full-scale simulation results. The difference is that `'het_poisson_stat'` replaces the non-simulated areas by Poisson spike trains and `'het_current_nonstat'` replaces it with a time-varying current input.\n",
    "\n",
    "5. `g` defines the relative inhibitory synaptic strength (in relative units to the excitatory synaptic strength). By default: `-11.0`, as used in the full-scale network. `g = -1.0` means equal excitatory and inhibitory strengths, and `g < -1.0` results in stronger inhibition than excitation.\n",
    "\n",
    "6. `rate_ext` defines the rate of the Poissonian spike generator (in spikes/s), by default: `10.0`. It also serves as one of the input parameters of the model. When a larger value is assigned to `rate_ext`, the excitatory background noise is increased. Note that the external Poisson indegree onto 5E and 6E is increased by a factor of 1.125 and 1.41666667 repectively, and the external Poisson indegree onto 23E and 5E in area TH is increased by a factor of 1.2."
   ]
  },
  {
   "cell_type": "code",
   "execution_count": null,
   "id": "60265d52",
   "metadata": {},
   "outputs": [],
   "source": [
    "# Downscaling factor\n",
    "# value range/options: (0, 1.], change it to 1. to simulate the full-scale network\n",
    "scale_down_to = 0.006\n",
    "\n",
    "# Scaling factor for cortico-cortical connections (Chi) \n",
    "# value range/options: [1., 2.5], \n",
    "# a weight factor of 1.0 produces Ground state activity.\n",
    "# 1.9 was assigned to produce results in Schmidt et al. (2018).\n",
    "cc_weights_factor = 1.9\n",
    "\n",
    "# Cortical areas included in the simulation\n",
    "# value range/options: any sublist of complete_area_list\n",
    "# where complete_area_list is\n",
    "complete_area_list = ['V1', 'V2', 'VP', 'V3', 'V3A', 'MT', 'V4t', 'V4', 'VOT', 'MSTd',\n",
    "                      'PIP', 'PO', 'DP', 'MIP', 'MDP', 'VIP', 'LIP', 'PITv', 'PITd',\n",
    "                      'MSTl', 'CITv', 'CITd', 'FEF', 'TF', 'AITv', 'FST', '7a', 'STPp',\n",
    "                      'STPa', '46', 'AITd', 'TH']\n",
    "areas_simulated = complete_area_list\n",
    "# areas_simulated = ['V1', 'V2']\n",
    "\n",
    "# Firing rates used to replace the non-simulated areas\n",
    "# value range/options: None, 'hom_poisson_stat', 'het_poisson_stat', 'het_current_nonstat'\n",
    "# if areas_simulated is complete_area_list, then replace_non_simulated_areas will be set as None \n",
    "# regardless of the value assigned below\n",
    "replace_non_simulated_areas = 'het_poisson_stat'\n",
    "\n",
    "# Relative inhibitory synaptic strength (in relative units), by default: -11.\n",
    "g = -11.\n",
    "\n",
    "# Rate of the Poissonian spike generator (in spikes/s), by default: 10.\n",
    "rate_ext = 10."
   ]
  },
  {
   "cell_type": "markdown",
   "id": "1472e9c5",
   "metadata": {},
   "source": [
    "Go back to [Notebook Outline](#toc)"
   ]
  },
  {
   "cell_type": "markdown",
   "id": "de4a6703",
   "metadata": {
    "tags": []
   },
   "source": [
    "## S2. Model Configuration, Instantiation and Simulation <a class=\"anchor\" id=\"section_2\"></a>"
   ]
  },
  {
   "cell_type": "markdown",
   "id": "9608b6d9-c7e4-4b2d-9c2b-0d43c6415b48",
   "metadata": {},
   "source": [
    "### 2.1. Configuring model parameters <a class=\"anchor\" id=\"section_2_1\"></a>"
   ]
  },
  {
   "cell_type": "markdown",
   "id": "56e2b6f6-d67a-4a74-973b-c8507a975bf8",
   "metadata": {},
   "source": [
    "We try our best not to confuse users with too many parameters. So, the few parameters tunned will be automatically assigned in this section to properly run the simulation. \n",
    "\n",
    "However, if you want to explore the model, you can alter other parameters related to the network or simulation configuration by passing them in the `network_params` and `sim_params` dictionaries below. If this is not the case, you can execute the cell the way it is."
   ]
  },
  {
   "cell_type": "code",
   "execution_count": null,
   "id": "fc49ba27-cb8e-441a-bf34-432971555b90",
   "metadata": {},
   "outputs": [],
   "source": [
    "# Determine replace_cc_input_source\n",
    "replace_cc_input_source = None                                               # By default, replace_cc_input_source is set to None\n",
    "                                                                             # where areas_simulated is complete_area_list                                                           \n",
    "if set(areas_simulated) != set(complete_area_list):                                                                                       \n",
    "    if replace_non_simulated_areas == 'hom_poisson_stat':                   \n",
    "        replace_cc_input_source = None\n",
    "    elif replace_non_simulated_areas == 'het_poisson_stat' or replace_non_simulated_areas == 'het_current_nonstat':\n",
    "        replace_cc_input_source = os.path.join(base_path, 'tests/fullscale_rates.json')\n",
    "    else:\n",
    "        raise Exception(\"'hom_poisson_stat', 'het_poisson_stat', or 'het_current_nonstat' should be assigned to replace_non_simulated_areas when not all areas are simulated!\")\n",
    "\n",
    "# Determine cc_weights_I_factor from cc_weights_factor\n",
    "if cc_weights_factor == 1.0:                                                  # For ground state with cc_weights_factor as 1., \n",
    "    cc_weights_I_factor = 1.0                                                 # cc_weights_I_factor is set to 1.\n",
    "elif cc_weights_factor > 1.0 and cc_weights_factor <= 2.5:                    # For cc_weights_factor in (1., 2.5],\n",
    "    cc_weights_I_factor = 2.0                                                 # cc_weights_I_factor is set to 2.\n",
    "else:                                                                         # cc_weights_factor outside of (1., 2.5], raise error\n",
    "    raise Exception(\"A value in range [1.0, 2.5] should be assigned to the parameter cc_weights_factor!\")\n",
    "\n",
    "# Connection parameters\n",
    "conn_params = {\n",
    "    'replace_non_simulated_areas': replace_non_simulated_areas,               # Whether to replace non-simulated areas by Poisson sources \n",
    "    'g': g,                                                                   # It sets the relative inhibitory synaptic strength, by default: -11.\n",
    "    'replace_cc_input_source': replace_cc_input_source,                       # Specify the data used to replace non-simulated areas      \n",
    "    'cc_weights_factor': cc_weights_factor,\n",
    "    'cc_weights_I_factor': cc_weights_I_factor\n",
    "}\n",
    "\n",
    "# Input parameters\n",
    "input_params = {\n",
    "    'rate_ext': rate_ext                                                      # Rate of the Poissonian spike generator (in spikes/s), by default: 10.\n",
    "} \n",
    "\n",
    "# Network parameters\n",
    "network_params = {\n",
    "    'N_scaling': scale_down_to,                                               # Scaling of population sizes, by default: 1. for full scale multi-area model\n",
    "    'K_scaling': scale_down_to,                                               # Scaling of indegrees, by default: 1. for full scale multi-area model\n",
    "    'fullscale_rates': os.path.join(base_path, 'tests/fullscale_rates.json'), # Absolute path to the file holding full-scale rates for scaling synaptic weights, by default: None\n",
    "    'input_params': input_params,                                             # Input parameters\n",
    "    'connection_params': conn_params,                                         # Connection parameters\n",
    "} \n",
    "\n",
    "# Simulation parameters\n",
    "sim_params = {\n",
    "    'areas_simulated': areas_simulated,                                       # Cortical areas included in the simulation\n",
    "    't_sim': 2000.,                                                           # Simulated time (in ms), by default: 10.\n",
    "    'rng_seed': 1                                                             # Global random seed\n",
    "}"
   ]
  },
  {
   "cell_type": "markdown",
   "id": "b3b5f634-284d-4b7b-88f6-17d26fb7743c",
   "metadata": {},
   "source": [
    "Go back to [Notebook Outline](#toc)"
   ]
  },
  {
   "cell_type": "markdown",
   "id": "1fd58841",
   "metadata": {
    "tags": []
   },
   "source": [
    "### 2.2. Instantiate a multi-area model <a class=\"anchor\" id=\"section_2_2\"></a>"
   ]
  },
  {
   "cell_type": "code",
   "execution_count": null,
   "id": "ab25f9f8",
   "metadata": {},
   "outputs": [],
   "source": [
    "M = MultiAreaModel(network_params, \n",
    "                   simulation=True,\n",
    "                   sim_spec=sim_params,\n",
    "                   theory=True)"
   ]
  },
  {
   "cell_type": "markdown",
   "id": "91649c30",
   "metadata": {},
   "source": [
    "### 2.3. Predict firing rates from theory <a class=\"anchor\" id=\"section_2_3\"></a>"
   ]
  },
  {
   "cell_type": "markdown",
   "id": "07cc84bf-dbcf-4ac3-b76e-ebe0886b4012",
   "metadata": {},
   "source": [
    "Note: the prediction may differ from the simulation results, especially in the presence of synchrony."
   ]
  },
  {
   "cell_type": "code",
   "execution_count": null,
   "id": "6a7ddf0e",
   "metadata": {},
   "outputs": [],
   "source": [
    "p, r = M.theory.integrate_siegert()\n",
    "\n",
    "print(\"Mean-field theory predicts an average \"\n",
    "      \"firing rate of {0:.3f} spikes/s across all populations.\".format(np.mean(r[:, -1])))"
   ]
  },
  {
   "cell_type": "markdown",
   "id": "c361fa92-4f50-4519-9592-60a39888a12b",
   "metadata": {},
   "source": [
    "Go back to [Notebook Outline](#toc)"
   ]
  },
  {
   "cell_type": "markdown",
   "id": "2062ddf3",
   "metadata": {},
   "source": [
    "### 2.4. Extract and visualize inter-areal connectivity <a class=\"anchor\" id=\"section_2_4\"></a>"
   ]
  },
  {
   "cell_type": "markdown",
   "id": "53cc3cdd-e623-4adc-8ae5-a36775417892",
   "metadata": {},
   "source": [
    "The inter-areal connectivity of the model is expressed as the relative indegrees for each target area. The relative indegrees for each target area are calculated as following: the value in the cell showing the stregnth of connection from source area i to target area j is calculated as the indegree from area i to area j divided by the sum of all indegrees from source area i."
   ]
  },
  {
   "cell_type": "markdown",
   "id": "8a7c09e0",
   "metadata": {},
   "source": [
    "The connectivity and neuron numbers are stored in the attributes of the model class. \n",
    "- Neuron numbers are stored in `M.N` as a dictionary (and in `M.N_vec` as an array).\n",
    "\n",
    "- Indegrees are stored in `M.K` as a dictionary (and in `M.K_matrix` as an array).<br>\n",
    "  Dictionary of nodes indegrees organized as:<br>\n",
    "  `{<source_area>: {<source_pop>: {<target_area>: {<target_pop>: indegree_values}}}}`\n",
    "\n",
    "- Number of synapses can be accessed via `M.synapses` (and in `M.syn_matrix` as an array). <br>\n",
    "  Dictionary of synapses that target neurons receive, it is organized as:<br>\n",
    "  `{<source_area>: {<source_pop>: {<target_area>: {<target_pop>: number_of_synapses}}}}`"
   ]
  },
  {
   "cell_type": "markdown",
   "id": "5c15ee30-b5eb-4024-b127-98ab68337ec0",
   "metadata": {},
   "source": [
    "Comparable figure in our publications: <br>\n",
    "1. Schmidt M, Bakker R, Hilgetag CC, Diesmann M & van Albada SJ <br>\n",
    "   Multi-scale account of the network structure of macaque visual cortex\n",
    "   Brain Structure and Function (2018), 223: 1409 [https://doi.org/10.1007/s00429-017-1554-4](https://doi.org/10.1007/s00429-017-1554-4) <br>\n",
    "   **Fig. 4D Area-level connectivity of the model, based on data in a–c, expressed as relative indegrees for each target area.**"
   ]
  },
  {
   "cell_type": "code",
   "execution_count": null,
   "id": "05512922-26e5-425f-90a4-0df7c2279ccf",
   "metadata": {},
   "outputs": [],
   "source": [
    "from M2E_visualize_interareal_connectivity import visualize_interareal_connectivity\n",
    "visualize_interareal_connectivity(M)"
   ]
  },
  {
   "cell_type": "markdown",
   "id": "e67f37e9-ec8d-4bb1-bd21-45e966f47ab6",
   "metadata": {},
   "source": [
    "Go back to [Notebook Outline](#toc)"
   ]
  },
  {
   "cell_type": "markdown",
   "id": "0c1cad59-81d0-4e24-ac33-13c4ca8c6dec",
   "metadata": {},
   "source": [
    "### 2.5. Run a simulation <a class=\"anchor\" id=\"section_2_5\"></a>"
   ]
  },
  {
   "cell_type": "code",
   "execution_count": null,
   "id": "15778e9c",
   "metadata": {},
   "outputs": [],
   "source": [
    "# Run the simulation, depending on the model parameter and downscale ratio, the running time varies largely.\n",
    "M.simulation.simulate()"
   ]
  },
  {
   "cell_type": "markdown",
   "id": "72a89aeb-78b9-4642-be0d-6de4d6c8f817",
   "metadata": {},
   "source": [
    "**Reminder**: The spike trains of simulated results are saved to the folder with path `./simulations/<simulation_label>/recordings` where the `<simulation_label>` is displayed in the output of 2.2. All statistics describing network dynamics are computed from the saved spike trains."
   ]
  },
  {
   "cell_type": "markdown",
   "id": "fd6e3232",
   "metadata": {},
   "source": [
    "Go back to [Notebook Outline](#toc)"
   ]
  },
  {
   "cell_type": "markdown",
   "id": "bb71c922",
   "metadata": {
    "tags": []
   },
   "source": [
    "## S3. Visualization of Network Dynamics <a class=\"anchor\" id=\"section_3\"></a>"
   ]
  },
  {
   "cell_type": "markdown",
   "id": "5d150e0d-9174-4737-be1d-0fa2ac282419",
   "metadata": {},
   "source": [
    "**Important**: `cc_weights_factor` plays a crucial role in transitioning the network activity from the ground to the metastable state.  In the full-scale network, the ground state and metastable state activities are achieved when this parameter is set to `1.0` and `1.9`, respectively."
   ]
  },
  {
   "cell_type": "code",
   "execution_count": null,
   "id": "44473002-b970-4f48-ac3d-1e01093133fd",
   "metadata": {},
   "outputs": [],
   "source": [
    "# Create an instance of Analysis to load data\n",
    "A = Analysis(M, M.simulation, data_list=['spikes'], load_areas=None)"
   ]
  },
  {
   "cell_type": "markdown",
   "id": "38ddd973",
   "metadata": {
    "tags": []
   },
   "source": [
    "### 3.1. Mean firing rate over simulated populations <a class=\"anchor\" id=\"section_3_1\"></a>"
   ]
  },
  {
   "cell_type": "code",
   "execution_count": null,
   "id": "bea30fc8",
   "metadata": {},
   "outputs": [],
   "source": [
    "# Print the mean firng rate over simulated populations\n",
    "from M2E_firing_rate import mean_firing_rate\n",
    "mean_firing_rate(M, data_path)"
   ]
  },
  {
   "cell_type": "markdown",
   "id": "2714fd2b-df6e-45b9-a7f4-f240a8c65ecf",
   "metadata": {
    "tags": []
   },
   "source": [
    "### 3.2. Instantaneous firing rate over simulated areas <a class=\"anchor\" id=\"section_3_2\"></a>"
   ]
  },
  {
   "cell_type": "code",
   "execution_count": null,
   "id": "61eb9d0d-06ef-454e-98c3-645152208979",
   "metadata": {},
   "outputs": [],
   "source": [
    "from M2E_firing_rate import plot_firing_rate_over_areas\n",
    "plot_firing_rate_over_areas(M, data_path)"
   ]
  },
  {
   "cell_type": "markdown",
   "id": "de0317c8-1fcd-405c-b0c9-36336aa1f3ad",
   "metadata": {},
   "source": [
    "### 3.3. Time-averaged firing rate over simulated populations <a class=\"anchor\" id=\"section_3_3\"></a>"
   ]
  },
  {
   "cell_type": "markdown",
   "id": "b6746ea4-91bd-44f5-acb6-83df15b05480",
   "metadata": {},
   "source": [
    "An overview of time-averaged firing rate over simulated populations encoded in colors with areas along x-axis and populations along y-axis. The cells of population 4E and 4I in area TH are labeled with X as area TH does not have layer 4."
   ]
  },
  {
   "cell_type": "code",
   "execution_count": null,
   "id": "14fa641f-0371-413e-945c-c8d4579aead6",
   "metadata": {},
   "outputs": [],
   "source": [
    "from M2E_visualize_time_ave_pop_rates import plot_time_averaged_population_rates\n",
    "plot_time_averaged_population_rates(M, data_path)"
   ]
  },
  {
   "cell_type": "markdown",
   "id": "e91c436e-db94-4cd7-a531-29c032efeeae",
   "metadata": {},
   "source": [
    "### 3.4. Network dynamics <a class=\"anchor\" id=\"section_3_4\"></a>"
   ]
  },
  {
   "cell_type": "markdown",
   "id": "2ab1e9e5-3eb8-40b2-a4e9-2e749978878d",
   "metadata": {},
   "source": [
    "Comparable figures in our publications: <br>\n",
    "1. Schmidt M, Bakker R, Shen K, Bezgin B, Diesmann M & van Albada SJ (2018)\n",
    "   A multi-scale layer-resolved spiking network model of\n",
    "   resting-state dynamics in macaque cortex. PLOS Computational Biology, 14(9): e1006359. [https://doi.org/10.1371/journal.pcbi.1006359](https://doi.org/10.1371/journal.pcbi.1006359) <br>\n",
    "   **Fig 3.  Ground state of the model.** <br>\n",
    "   **Fig 5.  Resting state of the model with χ = 1.9 (metastable state).**"
   ]
  },
  {
   "cell_type": "code",
   "execution_count": null,
   "id": "ae19bcc3",
   "metadata": {
    "tags": []
   },
   "outputs": [],
   "source": [
    "# Choose at most 3 areas from the areas_simulated to show their spiking activities\n",
    "# By default, the list is ['V1', 'V2', 'FEF'] when all areas from complete_area_list are simulated\n",
    "raster_areas = ['V1', 'V2', 'FEF']\n",
    "\n",
    "from M2E_visualize_dynamics import visual_dynamics\n",
    "visual_dynamics(M, data_path, raster_areas)"
   ]
  },
  {
   "cell_type": "markdown",
   "id": "b53058b5-c0bd-4837-8289-9226872317cc",
   "metadata": {},
   "source": [
    "### 3.5. Functional connectivity <a class=\"anchor\" id=\"section_3_5\"></a>"
   ]
  },
  {
   "cell_type": "markdown",
   "id": "013adaf8-af8b-470e-94f0-b69121d1ca2c",
   "metadata": {},
   "source": [
    "Comparison of inter-area interactions of the down-scaled MAM visualized as functional connectivity and experimental data. (A) Simulated functional connectivity (FC) for w = 1.9 measured by the zero-time-lag correlation coefficient of synaptic input currents. (B) FC of macaque resting-state fMRI (see Materials and methods)."
   ]
  },
  {
   "cell_type": "markdown",
   "id": "678741b2-6dfa-4f1d-b4d8-ccd84f104767",
   "metadata": {},
   "source": [
    "**Order of cortical areas**: <br>\n",
    "V1, V2, VP, V3, V3A, MT, V4t, V4, VOT, MSTd, PIP, PO, DP, MIP, MDP, VIP, LIP, PITv, PITd, MSTl, CITv, CITd, FEF, TF, AITv, FST, 7a, STPp, STPa, 46, AITd, TH"
   ]
  },
  {
   "cell_type": "code",
   "execution_count": null,
   "id": "b4b25621-618d-4594-8cf7-9b9002837d69",
   "metadata": {},
   "outputs": [],
   "source": [
    "from M2E_visualize_fc import visualize_fc\n",
    "label = M.simulation.label\n",
    "visualize_fc(M, data_path, label)"
   ]
  },
  {
   "cell_type": "markdown",
   "id": "ef74ca3e-98dc-49c9-a4a0-2c640e29b1d9",
   "metadata": {},
   "source": [
    "Go back to [Notebook Outline](#toc)"
   ]
  },
  {
   "cell_type": "markdown",
   "id": "eb4bdea1-384f-41b3-8d8c-7bd568ae1537",
   "metadata": {
    "tags": []
   },
   "source": [
    "## Additional Notes <a class=\"anchor\" id=\"section_4\"></a>"
   ]
  },
  {
   "cell_type": "markdown",
   "id": "cd25cb76-31eb-4c06-9bf8-a0407967b141",
   "metadata": {},
   "source": [
    "1. Simulation data <br>\n",
    "The spike data of all simulated populations for all simulations are saved in `./simulations/<simulation_label>/recordings` where `<simulation_label>` can be accessed in the output of 2.2. Or users can see their latest simulation by checking the column \"Last Modified\" and find the folder with the latest change.\n",
    "2. Statistics <br>\n",
    "The statistics of network dynamics computed from the spike trains can be found in `./simulations/<simulation_label>/Analysis`. You may also find more statistics defined in `./multiarea_model/analysis.py` to explore more about network dynamics.\n",
    "3. Scripts for visualizing network dynamics <br>\n",
    "The scripts for computing statistics and plotting the figures in S3 can be found in `./figures/MAM2EBRAINS`."
   ]
  },
  {
   "cell_type": "markdown",
   "id": "ae940386-f9ec-4556-93bb-f63c7053cbd3",
   "metadata": {},
   "source": [
    "Go back to [Notebook Outline](#toc)"
   ]
  }
 ],
 "metadata": {
  "kernelspec": {
   "display_name": "EBRAINS-23.09",
   "language": "python",
   "name": "ebrains-23.09"
  },
  "language_info": {
   "codemirror_mode": {
    "name": "ipython",
    "version": 3
   },
   "file_extension": ".py",
   "mimetype": "text/x-python",
   "name": "python",
   "nbconvert_exporter": "python",
   "pygments_lexer": "ipython3",
   "version": "3.8.11"
  }
 },
 "nbformat": 4,
 "nbformat_minor": 5
}
